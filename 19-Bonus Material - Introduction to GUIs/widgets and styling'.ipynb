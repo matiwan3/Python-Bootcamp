{
 "cells": [
  {
   "cell_type": "code",
   "execution_count": 1,
   "id": "d346a2c8-554a-476f-a1ca-5790dab0ae5c",
   "metadata": {},
   "outputs": [],
   "source": [
    "import ipywidgets as widgets\n",
    "from IPython.display import display"
   ]
  },
  {
   "cell_type": "code",
   "execution_count": 2,
   "id": "2d8ee104-123f-41de-a368-9c99bb8998f9",
   "metadata": {},
   "outputs": [],
   "source": [
    "w = widgets.IntSlider()"
   ]
  },
  {
   "cell_type": "code",
   "execution_count": 3,
   "id": "c1e8f7a9-a3b2-4ce0-82c6-a18bbd81fafc",
   "metadata": {},
   "outputs": [
    {
     "data": {
      "application/vnd.jupyter.widget-view+json": {
       "model_id": "d285490192774deabd97310782824617",
       "version_major": 2,
       "version_minor": 0
      },
      "text/plain": [
       "IntSlider(value=0)"
      ]
     },
     "metadata": {},
     "output_type": "display_data"
    }
   ],
   "source": [
    "display(w)"
   ]
  },
  {
   "cell_type": "code",
   "execution_count": 4,
   "id": "5acaacf0-4c00-45cb-9686-f9b08a67f359",
   "metadata": {},
   "outputs": [],
   "source": [
    "w.layout.margin = 'auto'\n",
    "w.layout.height = '75px'"
   ]
  },
  {
   "cell_type": "code",
   "execution_count": 5,
   "id": "349952c1-7c83-4b3b-917f-cfa1518f0078",
   "metadata": {},
   "outputs": [
    {
     "data": {
      "application/vnd.jupyter.widget-view+json": {
       "model_id": "177b1f7c54af41bbaf9b73c8fed395ce",
       "version_major": 2,
       "version_minor": 0
      },
      "text/plain": [
       "IntSlider(value=15, description='New Slider')"
      ]
     },
     "metadata": {},
     "output_type": "display_data"
    }
   ],
   "source": [
    "x = widgets.IntSlider(value = 15,description = 'New Slider')\n",
    "display(x)"
   ]
  },
  {
   "cell_type": "code",
   "execution_count": 6,
   "id": "b3a798c3-0e46-4ee4-8a66-1cf5c546e2c1",
   "metadata": {},
   "outputs": [],
   "source": [
    "x.layout = w.layout"
   ]
  },
  {
   "cell_type": "code",
   "execution_count": 9,
   "id": "c3a4ebbd-7742-452d-a9c5-3a40281da9e8",
   "metadata": {},
   "outputs": [
    {
     "data": {
      "application/vnd.jupyter.widget-view+json": {
       "model_id": "67f97f88f96e4393a0005eb0019fa1f2",
       "version_major": 2,
       "version_minor": 0
      },
      "text/plain": [
       "Button(button_style='info', description='Ordinary Button', style=ButtonStyle())"
      ]
     },
     "execution_count": 9,
     "metadata": {},
     "output_type": "execute_result"
    }
   ],
   "source": [
    "widgets.Button(description='Ordinary Button',button_style = 'info')"
   ]
  },
  {
   "cell_type": "code",
   "execution_count": null,
   "id": "e943ee4a-2df1-45d3-bb29-1943f9e94c32",
   "metadata": {},
   "outputs": [],
   "source": [
    "\n",
    "\n",
    "\n",
    "\n",
    "\n",
    "\n",
    "\n",
    "\n",
    "\n",
    "\n",
    "\n"
   ]
  },
  {
   "cell_type": "code",
   "execution_count": null,
   "id": "5cc1c75c-6776-4b6c-b6e2-3fbff4c564b4",
   "metadata": {},
   "outputs": [],
   "source": []
  },
  {
   "cell_type": "code",
   "execution_count": null,
   "id": "7c49774d-ba40-40f3-aed5-ebe6f8f4767c",
   "metadata": {},
   "outputs": [],
   "source": []
  },
  {
   "cell_type": "code",
   "execution_count": null,
   "id": "fc545d50-568c-4265-9035-c562966cddd0",
   "metadata": {},
   "outputs": [],
   "source": []
  },
  {
   "cell_type": "code",
   "execution_count": null,
   "id": "a35b7540-27eb-43e6-ad3a-74e53bfd5c3b",
   "metadata": {},
   "outputs": [],
   "source": []
  },
  {
   "cell_type": "code",
   "execution_count": null,
   "id": "5ab42ec6-0eae-4a83-afe5-b9b341e3c6dc",
   "metadata": {},
   "outputs": [],
   "source": []
  },
  {
   "cell_type": "code",
   "execution_count": null,
   "id": "a491cfa8-a2a3-4592-a571-e033adf39ba7",
   "metadata": {},
   "outputs": [],
   "source": []
  },
  {
   "cell_type": "code",
   "execution_count": null,
   "id": "296a3ca9-f30f-4940-8a0b-d454c11cb6ae",
   "metadata": {},
   "outputs": [],
   "source": []
  },
  {
   "cell_type": "code",
   "execution_count": null,
   "id": "b3817c3d-9f82-42fd-a63c-3ba2068b1e15",
   "metadata": {},
   "outputs": [],
   "source": []
  },
  {
   "cell_type": "code",
   "execution_count": null,
   "id": "addf73d4-84d8-49b6-9a73-6655cbfca757",
   "metadata": {},
   "outputs": [],
   "source": []
  },
  {
   "cell_type": "code",
   "execution_count": null,
   "id": "ef452464-f548-4607-9a2f-4100944a69aa",
   "metadata": {},
   "outputs": [],
   "source": []
  },
  {
   "cell_type": "code",
   "execution_count": null,
   "id": "de7696b6-c333-451b-97a7-c24b128719da",
   "metadata": {},
   "outputs": [],
   "source": []
  },
  {
   "cell_type": "code",
   "execution_count": null,
   "id": "f028003c-336c-47de-9cf1-1f7aa0087738",
   "metadata": {},
   "outputs": [],
   "source": []
  },
  {
   "cell_type": "code",
   "execution_count": null,
   "id": "7cd62ab6-75a5-4614-855b-76fc3bf2cac5",
   "metadata": {},
   "outputs": [],
   "source": []
  },
  {
   "cell_type": "code",
   "execution_count": null,
   "id": "a19ed914-45ae-4544-bb72-542d7a2e5f00",
   "metadata": {},
   "outputs": [],
   "source": []
  },
  {
   "cell_type": "code",
   "execution_count": 10,
   "id": "b62c47fb-f7ae-44a9-ada0-1fcfa80d138c",
   "metadata": {},
   "outputs": [],
   "source": [
    "b1 = widgets.Button(description='Custom Color')"
   ]
  },
  {
   "cell_type": "code",
   "execution_count": 13,
   "id": "bd120c03-98d9-47b9-bdca-5b1164de2c95",
   "metadata": {},
   "outputs": [
    {
     "data": {
      "application/vnd.jupyter.widget-view+json": {
       "model_id": "d59d01907d724f34a201152071c169bc",
       "version_major": 2,
       "version_minor": 0
      },
      "text/plain": [
       "Button(description='Custom Color', style=ButtonStyle(button_color='lightgreen'))"
      ]
     },
     "execution_count": 13,
     "metadata": {},
     "output_type": "execute_result"
    }
   ],
   "source": [
    "b1.style.button_color = 'lightgreen'\n",
    "b1"
   ]
  },
  {
   "cell_type": "code",
   "execution_count": 17,
   "id": "f083254d-884b-43ba-a855-48c4c43b0cf8",
   "metadata": {},
   "outputs": [],
   "source": [
    "b2 = widgets.Button(description = 'NEW')"
   ]
  },
  {
   "cell_type": "code",
   "execution_count": 18,
   "id": "6695531f-e9f9-4753-b9fd-eb1bd7e0d9d0",
   "metadata": {},
   "outputs": [],
   "source": [
    "b2.style = b1.style"
   ]
  },
  {
   "cell_type": "code",
   "execution_count": 19,
   "id": "f90a966f-3215-4ec2-a770-accc0d4d238d",
   "metadata": {},
   "outputs": [
    {
     "data": {
      "application/vnd.jupyter.widget-view+json": {
       "model_id": "3b1eeeea4e1441559fff6103e98ec1f5",
       "version_major": 2,
       "version_minor": 0
      },
      "text/plain": [
       "Button(description='NEW', style=ButtonStyle(button_color='lightgreen'))"
      ]
     },
     "execution_count": 19,
     "metadata": {},
     "output_type": "execute_result"
    }
   ],
   "source": [
    "b2"
   ]
  },
  {
   "cell_type": "code",
   "execution_count": 22,
   "id": "a9aa1b19-2a01-4152-aaa4-fb23abc9d15e",
   "metadata": {},
   "outputs": [],
   "source": [
    "s1 = widgets.IntSlider(description = 'My handle')"
   ]
  },
  {
   "cell_type": "code",
   "execution_count": 24,
   "id": "e68ff151-439b-48ab-9bae-cc581ae00b33",
   "metadata": {},
   "outputs": [],
   "source": [
    "s1.style.handle_color = 'blue'"
   ]
  },
  {
   "cell_type": "markdown",
   "id": "fe8cbec8-0685-46b4-a777-4cf7494a5e28",
   "metadata": {},
   "source": [
    "s1"
   ]
  },
  {
   "cell_type": "code",
   "execution_count": 25,
   "id": "a9b6d9cb-fa2e-4ca5-afaf-9a3c0698d533",
   "metadata": {},
   "outputs": [
    {
     "data": {
      "application/vnd.jupyter.widget-view+json": {
       "model_id": "adc979d11551433493ed4860379222a7",
       "version_major": 2,
       "version_minor": 0
      },
      "text/plain": [
       "IntSlider(value=0, description='My handle', style=SliderStyle(handle_color='blue'))"
      ]
     },
     "execution_count": 25,
     "metadata": {},
     "output_type": "execute_result"
    }
   ],
   "source": [
    "s1"
   ]
  },
  {
   "cell_type": "code",
   "execution_count": 26,
   "id": "d5cfd7c1-6830-4a47-a039-0565fbc3ddb5",
   "metadata": {},
   "outputs": [
    {
     "data": {
      "text/plain": [
       "['_model_module',\n",
       " '_model_module_version',\n",
       " '_model_name',\n",
       " '_view_count',\n",
       " '_view_module',\n",
       " '_view_module_version',\n",
       " '_view_name',\n",
       " 'description_width',\n",
       " 'handle_color']"
      ]
     },
     "execution_count": 26,
     "metadata": {},
     "output_type": "execute_result"
    }
   ],
   "source": [
    "s1.style.keys"
   ]
  },
  {
   "cell_type": "code",
   "execution_count": null,
   "id": "039bf510-883c-4cb4-8f92-fcf3b684ac33",
   "metadata": {},
   "outputs": [],
   "source": []
  }
 ],
 "metadata": {
  "kernelspec": {
   "display_name": "Python 3 (ipykernel)",
   "language": "python",
   "name": "python3"
  },
  "language_info": {
   "codemirror_mode": {
    "name": "ipython",
    "version": 3
   },
   "file_extension": ".py",
   "mimetype": "text/x-python",
   "name": "python",
   "nbconvert_exporter": "python",
   "pygments_lexer": "ipython3",
   "version": "3.10.6"
  }
 },
 "nbformat": 4,
 "nbformat_minor": 5
}
