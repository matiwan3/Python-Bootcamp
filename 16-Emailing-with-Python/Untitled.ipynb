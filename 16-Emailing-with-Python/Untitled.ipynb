{
 "cells": [
  {
   "cell_type": "code",
   "execution_count": 1,
   "id": "ec9ee99d-490d-4d52-a126-174bae727fa3",
   "metadata": {},
   "outputs": [],
   "source": [
    "import imaplib"
   ]
  },
  {
   "cell_type": "code",
   "execution_count": 2,
   "id": "493692cc-2c9b-4808-8867-07aabe32d4ed",
   "metadata": {},
   "outputs": [],
   "source": [
    "M = imaplib.IMAP4_SSL('imap.gmail.com')\n",
    "import getpass"
   ]
  },
  {
   "cell_type": "code",
   "execution_count": 5,
   "id": "e960a32d-74d7-42bb-8a2a-9d39a1bc32cd",
   "metadata": {},
   "outputs": [
    {
     "name": "stdin",
     "output_type": "stream",
     "text": [
      "Email:  ········\n",
      "Password:  ········\n"
     ]
    }
   ],
   "source": [
    "email = getpass.getpass(\"Email: \")\n",
    "password = getpass.getpass(\"Password: \")"
   ]
  },
  {
   "cell_type": "code",
   "execution_count": 4,
   "id": "947ae85d-6ac5-4aa0-89aa-b9e62877a480",
   "metadata": {},
   "outputs": [
    {
     "data": {
      "text/plain": [
       "('OK', [b'1657'])"
      ]
     },
     "execution_count": 4,
     "metadata": {},
     "output_type": "execute_result"
    }
   ],
   "source": [
    "M.login(email,password)\n",
    "M.list()\n",
    "M.select('inbox')"
   ]
  },
  {
   "cell_type": "code",
   "execution_count": 9,
   "id": "6a81ff67-8ca5-4e06-a7f4-2fbe42379cf1",
   "metadata": {},
   "outputs": [],
   "source": [
    "typ, data = M.search(None, 'SUBJECT \"witam hehe\"')"
   ]
  },
  {
   "cell_type": "code",
   "execution_count": 10,
   "id": "8946e904-7a0a-4fe8-b8ee-21a307d883fa",
   "metadata": {},
   "outputs": [
    {
     "data": {
      "text/plain": [
       "'OK'"
      ]
     },
     "execution_count": 10,
     "metadata": {},
     "output_type": "execute_result"
    }
   ],
   "source": [
    "typ"
   ]
  },
  {
   "cell_type": "code",
   "execution_count": 13,
   "id": "c46df9ee-5252-4cdb-b855-a82776dc9985",
   "metadata": {},
   "outputs": [],
   "source": [
    "email_id = data[0]"
   ]
  },
  {
   "cell_type": "code",
   "execution_count": 14,
   "id": "1a3be5f8-2bf5-43ab-8e71-acddf428f29e",
   "metadata": {},
   "outputs": [],
   "source": [
    "result, email_data = M.fetch(email_id, '(RFC822)')"
   ]
  },
  {
   "cell_type": "code",
   "execution_count": 15,
   "id": "4d3637d7-0f4e-4861-8a1e-bdc1d31ee435",
   "metadata": {},
   "outputs": [
    {
     "data": {
      "text/plain": [
       "[(b'1657 (RFC822 {609}',\n",
       "  b'Bcc: matixcraft125@gmail.com\\r\\nReturn-Path: <matixcraft125@gmail.com>\\r\\nReceived: from [192.168.1.16] (c153-241.icpnet.pl. [85.221.153.241])\\r\\n        by smtp.gmail.com with ESMTPSA id q8-20020a056512210800b0049311968ca4sm1118266lfr.261.2022.09.22.15.15.09\\r\\n        for <matixcraft125@gmail.com>\\r\\n        (version=TLS1_3 cipher=TLS_AES_256_GCM_SHA384 bits=256/256);\\r\\n        Thu, 22 Sep 2022 15:15:09 -0700 (PDT)\\r\\nMessage-ID: <632cde6d.050a0220.2ff6.5dfd@mx.google.com>\\r\\nDate: Thu, 22 Sep 2022 15:15:09 -0700 (PDT)\\r\\nFrom: matixcraft125@gmail.com\\r\\nSubject: witam hehe\\r\\n\\r\\nwitam hehehe ale dluzszeeeeeeeeeeeeeeeee\\r\\n'),\n",
       " b')']"
      ]
     },
     "execution_count": 15,
     "metadata": {},
     "output_type": "execute_result"
    }
   ],
   "source": [
    "email_data"
   ]
  },
  {
   "cell_type": "code",
   "execution_count": 16,
   "id": "1162f4ef-4877-4f89-a46a-519756dab43c",
   "metadata": {},
   "outputs": [],
   "source": [
    "#email_data\n"
   ]
  },
  {
   "cell_type": "code",
   "execution_count": 17,
   "id": "c37bb935-ef40-46f9-95c2-c7cceb74b571",
   "metadata": {},
   "outputs": [],
   "source": [
    "raw_email = email_data[0][1]"
   ]
  },
  {
   "cell_type": "code",
   "execution_count": 18,
   "id": "9f8481f0-7a04-47ec-89af-dc84a5a82a3f",
   "metadata": {},
   "outputs": [],
   "source": [
    "raw_email_string = raw_email.decode('utf-8')"
   ]
  },
  {
   "cell_type": "code",
   "execution_count": 19,
   "id": "a6856db0-cf86-4930-bab6-107f551a47cd",
   "metadata": {},
   "outputs": [],
   "source": [
    "import email"
   ]
  },
  {
   "cell_type": "code",
   "execution_count": 20,
   "id": "fe78f981-cf09-470b-9f32-7eb060b660d7",
   "metadata": {},
   "outputs": [],
   "source": [
    "email_message = email.message_from_string(raw_email_string)"
   ]
  },
  {
   "cell_type": "code",
   "execution_count": 21,
   "id": "42209feb-7ac5-44b8-b717-dfeadb86bb7e",
   "metadata": {},
   "outputs": [
    {
     "data": {
      "text/plain": [
       "<email.message.Message at 0x2023946f8e0>"
      ]
     },
     "execution_count": 21,
     "metadata": {},
     "output_type": "execute_result"
    }
   ],
   "source": [
    "email_message"
   ]
  },
  {
   "cell_type": "code",
   "execution_count": 27,
   "id": "fdf852da-8ebf-498d-883f-6d04cd10e3e2",
   "metadata": {},
   "outputs": [
    {
     "name": "stdout",
     "output_type": "stream",
     "text": [
      "b'witam hehehe ale dluzszeeeeeeeeeeeeeeeee\\r\\n'\n"
     ]
    }
   ],
   "source": [
    "\n",
    "for part in email_message.walk():\n",
    "    \n",
    "    if part.get_content_type() == 'text/plain':\n",
    "        body = part.get_payload(decode = True)\n",
    "        print(body)"
   ]
  },
  {
   "cell_type": "code",
   "execution_count": null,
   "id": "6aade671-03cf-4845-a992-02122f433bb1",
   "metadata": {},
   "outputs": [],
   "source": [
    "\n"
   ]
  }
 ],
 "metadata": {
  "kernelspec": {
   "display_name": "Python 3 (ipykernel)",
   "language": "python",
   "name": "python3"
  },
  "language_info": {
   "codemirror_mode": {
    "name": "ipython",
    "version": 3
   },
   "file_extension": ".py",
   "mimetype": "text/x-python",
   "name": "python",
   "nbconvert_exporter": "python",
   "pygments_lexer": "ipython3",
   "version": "3.10.6"
  }
 },
 "nbformat": 4,
 "nbformat_minor": 5
}
